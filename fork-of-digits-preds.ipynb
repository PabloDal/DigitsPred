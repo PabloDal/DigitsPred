{
 "cells": [
  {
   "cell_type": "code",
   "execution_count": 1,
   "metadata": {
    "_uuid": "cd51279180a5991db7ba06a9535bef63189a8a01"
   },
   "outputs": [],
   "source": [
    "import pandas as pd\n",
    "import numpy as np\n",
    "#PCA, splits and metrics\n",
    "from sklearn import decomposition\n",
    "from sklearn import datasets\n",
    "from sklearn.model_selection import train_test_split\n",
    "from sklearn.model_selection import GridSearchCV, StratifiedKFold\n",
    "from sklearn import  metrics\n",
    "#models\n",
    "from sklearn.neighbors import KNeighborsClassifier\n",
    "from sklearn.ensemble import RandomForestClassifier\n",
    "from sklearn.linear_model import LogisticRegression"
   ]
  },
  {
   "cell_type": "code",
   "execution_count": 2,
   "metadata": {
    "_uuid": "c945ab6c4727cb5aac1711a6847c344a41ffeb3b"
   },
   "outputs": [],
   "source": [
    "# data\n",
    "train = pd.read_csv('../input/train.csv')\n",
    "test  = pd.read_csv('../input/test.csv')\n",
    "target = train[\"label\"]\n",
    "train = train.drop(\"label\",1)"
   ]
  },
  {
   "cell_type": "code",
   "execution_count": 3,
   "metadata": {
    "_uuid": "2f45264c5432ace02fce874b3e5b2167f3f8bdfc"
   },
   "outputs": [],
   "source": [
    "#decompose train data\n",
    "pca = decomposition.PCA(n_components=50)\n",
    "pca.fit(train)\n",
    "transform_train = pca.transform(train)\n",
    "transform_test = pca.transform(test)"
   ]
  },
  {
   "cell_type": "code",
   "execution_count": 4,
   "metadata": {},
   "outputs": [],
   "source": [
    "class Quick_grid():\n",
    "    \n",
    "    def __init__(self, X, y, model, params):\n",
    "        self.grid = GridSearchCV(model, params, verbose=1, cv=3, n_jobs=3)\n",
    "        self.X_train, self.X_test, self.y_train, self.y_test = train_test_split(X, y, test_size=0.5, \n",
    "                                                                                random_state=5)\n",
    "        self.trained_params = []\n",
    "        self.train_pred = []\n",
    "        self.output_pred = []\n",
    "        \n",
    "    def Train(self):\n",
    "        self.grid.fit(self.X_train, self.y_train)\n",
    "        self.trained_params = self.grid.best_estimator_\n",
    "        print(\"Model trained\")\n",
    "        print(self.grid.best_estimator_)\n",
    "        \n",
    "    def Train_Preds(self):\n",
    "        pred = self.grid.predict(self.X_test)\n",
    "        print(metrics.classification_report(self.y_test, pred))\n",
    "        self.train_pred = pred\n",
    "    \n",
    "    def Output_Preds(self, X):\n",
    "        pred = self.grid.predict(X)\n",
    "        print(metrics.classification_report(self.y_test, pred))\n",
    "        self.output_pred = pred"
   ]
  },
  {
   "cell_type": "code",
   "execution_count": 5,
   "metadata": {},
   "outputs": [],
   "source": [
    "class Stacker():\n",
    "    \n",
    "    def __init__(self, X, y):\n",
    "        self.X = X\n",
    "        self.y = y\n",
    "        self.train_1 = pd.DataFrame()\n",
    "        self.pred = []\n",
    "        \n",
    "    def Order_1(self, models):\n",
    "        print(\"Training order 1...\")\n",
    "        for model in models:\n",
    "            model.fit(self.X, self.y)\n",
    "            self.train_1[str(\"model\")] = model.predict(self.X)\n",
    "            print(\"One model trained...\")\n",
    "        print(\"All models trained.\")\n",
    "    \n",
    "    def Stack_pred(self, model, params):\n",
    "        X_train, X_test, y_train, y_test = train_test_split(self.train_1, self.y, test_size=0.3, random_state=5)\n",
    "        grid = GridSearchCV(model, params, verbose=3, cv=3, n_jobs=3)\n",
    "        grid.fit(X_train, y_train)\n",
    "        pred = grid.predict(X_test)\n",
    "        self.pred = pred\n",
    "        print(metrics.classification_report(y_test, pred))"
   ]
  },
  {
   "cell_type": "code",
   "execution_count": 6,
   "metadata": {},
   "outputs": [],
   "source": [
    "params = {\"n_neighbors\": np.arange(1, 10, 2),\n",
    "          \"metric\": [\"euclidean\"]}\n",
    "\n",
    "first = Quick_grid(transform_train, target, model = KNeighborsClassifier(), params = params)"
   ]
  },
  {
   "cell_type": "code",
   "execution_count": 7,
   "metadata": {},
   "outputs": [
    {
     "name": "stdout",
     "output_type": "stream",
     "text": [
      "Fitting 3 folds for each of 5 candidates, totalling 15 fits\n"
     ]
    },
    {
     "name": "stderr",
     "output_type": "stream",
     "text": [
      "[Parallel(n_jobs=3)]: Using backend LokyBackend with 3 concurrent workers.\n"
     ]
    },
    {
     "name": "stdout",
     "output_type": "stream",
     "text": [
      "Model trained\n",
      "KNeighborsClassifier(algorithm='auto', leaf_size=30, metric='euclidean',\n",
      "           metric_params=None, n_jobs=None, n_neighbors=3, p=2,\n",
      "           weights='uniform')\n"
     ]
    },
    {
     "name": "stderr",
     "output_type": "stream",
     "text": [
      "[Parallel(n_jobs=3)]: Done  15 out of  15 | elapsed:  2.4min finished\n"
     ]
    }
   ],
   "source": [
    "first.Train()"
   ]
  },
  {
   "cell_type": "code",
   "execution_count": 8,
   "metadata": {},
   "outputs": [
    {
     "name": "stdout",
     "output_type": "stream",
     "text": [
      "              precision    recall  f1-score   support\n",
      "\n",
      "           0       0.98      0.99      0.99      2040\n",
      "           1       0.97      0.99      0.98      2320\n",
      "           2       0.97      0.96      0.97      2034\n",
      "           3       0.96      0.96      0.96      2160\n",
      "           4       0.97      0.96      0.97      2047\n",
      "           5       0.97      0.96      0.96      1909\n",
      "           6       0.97      0.99      0.98      2069\n",
      "           7       0.96      0.98      0.97      2241\n",
      "           8       0.98      0.93      0.96      1992\n",
      "           9       0.95      0.95      0.95      2188\n",
      "\n",
      "   micro avg       0.97      0.97      0.97     21000\n",
      "   macro avg       0.97      0.97      0.97     21000\n",
      "weighted avg       0.97      0.97      0.97     21000\n",
      "\n"
     ]
    }
   ],
   "source": [
    "first.Train_Preds()"
   ]
  },
  {
   "cell_type": "code",
   "execution_count": 9,
   "metadata": {
    "_uuid": "30a86bf7122b9d574789c012cdcd22966a3c3c79"
   },
   "outputs": [],
   "source": [
    "#Random Forest\n",
    "\n",
    "param_trees = {'n_estimators': [100],\n",
    "               'max_features': [4, 5, 7, 10],\n",
    "               'max_depth': [5, 10, 15, None], \n",
    "               'min_samples_leaf':[5, 10],\n",
    "               'random_state': [0]}\n",
    "\n",
    "second = Quick_grid(transform_train, target, model = RandomForestClassifier(), params = param_trees)"
   ]
  },
  {
   "cell_type": "code",
   "execution_count": 10,
   "metadata": {
    "_uuid": "e02b371a3f0f713ca4044c6b7a3a5308493be11d"
   },
   "outputs": [
    {
     "name": "stdout",
     "output_type": "stream",
     "text": [
      "Fitting 3 folds for each of 32 candidates, totalling 96 fits\n"
     ]
    },
    {
     "name": "stderr",
     "output_type": "stream",
     "text": [
      "[Parallel(n_jobs=3)]: Using backend LokyBackend with 3 concurrent workers.\n",
      "[Parallel(n_jobs=3)]: Done  44 tasks      | elapsed:  2.0min\n",
      "[Parallel(n_jobs=3)]: Done  96 out of  96 | elapsed:  5.5min finished\n"
     ]
    },
    {
     "name": "stdout",
     "output_type": "stream",
     "text": [
      "Model trained\n",
      "RandomForestClassifier(bootstrap=True, class_weight=None, criterion='gini',\n",
      "            max_depth=None, max_features=5, max_leaf_nodes=None,\n",
      "            min_impurity_decrease=0.0, min_impurity_split=None,\n",
      "            min_samples_leaf=5, min_samples_split=2,\n",
      "            min_weight_fraction_leaf=0.0, n_estimators=100, n_jobs=None,\n",
      "            oob_score=False, random_state=0, verbose=0, warm_start=False)\n"
     ]
    }
   ],
   "source": [
    "second.Train()"
   ]
  },
  {
   "cell_type": "code",
   "execution_count": 11,
   "metadata": {},
   "outputs": [
    {
     "name": "stdout",
     "output_type": "stream",
     "text": [
      "              precision    recall  f1-score   support\n",
      "\n",
      "           0       0.96      0.98      0.97      2040\n",
      "           1       0.97      0.98      0.98      2320\n",
      "           2       0.93      0.92      0.93      2034\n",
      "           3       0.90      0.92      0.91      2160\n",
      "           4       0.94      0.93      0.94      2047\n",
      "           5       0.93      0.91      0.92      1909\n",
      "           6       0.95      0.97      0.96      2069\n",
      "           7       0.95      0.95      0.95      2241\n",
      "           8       0.91      0.89      0.90      1992\n",
      "           9       0.92      0.90      0.91      2188\n",
      "\n",
      "   micro avg       0.94      0.94      0.94     21000\n",
      "   macro avg       0.94      0.93      0.93     21000\n",
      "weighted avg       0.94      0.94      0.94     21000\n",
      "\n"
     ]
    }
   ],
   "source": [
    "second.Train_Preds()"
   ]
  },
  {
   "cell_type": "code",
   "execution_count": 12,
   "metadata": {},
   "outputs": [],
   "source": [
    "#Logistic Regression\n",
    "\n",
    "param_lr = {'C': [0.001, 0.005, 0.01],\n",
    "           'solver': ['lbfgs'],\n",
    "           'multi_class': ['warn'],\n",
    "           'max_iter': [500]}\n",
    "\n",
    "third = Quick_grid(transform_train, target, model = LogisticRegression(), params = param_lr)"
   ]
  },
  {
   "cell_type": "code",
   "execution_count": 13,
   "metadata": {},
   "outputs": [
    {
     "name": "stdout",
     "output_type": "stream",
     "text": [
      "Fitting 3 folds for each of 3 candidates, totalling 9 fits\n"
     ]
    },
    {
     "name": "stderr",
     "output_type": "stream",
     "text": [
      "[Parallel(n_jobs=3)]: Using backend LokyBackend with 3 concurrent workers.\n",
      "[Parallel(n_jobs=3)]: Done   9 out of   9 | elapsed:   35.9s finished\n",
      "/opt/conda/lib/python3.6/site-packages/sklearn/linear_model/logistic.py:460: FutureWarning: Default multi_class will be changed to 'auto' in 0.22. Specify the multi_class option to silence this warning.\n",
      "  \"this warning.\", FutureWarning)\n"
     ]
    },
    {
     "name": "stdout",
     "output_type": "stream",
     "text": [
      "Model trained\n",
      "LogisticRegression(C=0.001, class_weight=None, dual=False, fit_intercept=True,\n",
      "          intercept_scaling=1, max_iter=500, multi_class='warn',\n",
      "          n_jobs=None, penalty='l2', random_state=None, solver='lbfgs',\n",
      "          tol=0.0001, verbose=0, warm_start=False)\n"
     ]
    }
   ],
   "source": [
    "third.Train()"
   ]
  },
  {
   "cell_type": "code",
   "execution_count": 14,
   "metadata": {},
   "outputs": [
    {
     "name": "stdout",
     "output_type": "stream",
     "text": [
      "              precision    recall  f1-score   support\n",
      "\n",
      "           0       0.94      0.97      0.96      2040\n",
      "           1       0.94      0.98      0.96      2320\n",
      "           2       0.89      0.86      0.88      2034\n",
      "           3       0.87      0.87      0.87      2160\n",
      "           4       0.90      0.91      0.91      2047\n",
      "           5       0.85      0.80      0.82      1909\n",
      "           6       0.92      0.95      0.93      2069\n",
      "           7       0.92      0.93      0.93      2241\n",
      "           8       0.86      0.84      0.85      1992\n",
      "           9       0.88      0.86      0.87      2188\n",
      "\n",
      "   micro avg       0.90      0.90      0.90     21000\n",
      "   macro avg       0.90      0.90      0.90     21000\n",
      "weighted avg       0.90      0.90      0.90     21000\n",
      "\n"
     ]
    }
   ],
   "source": [
    "third.Train_Preds()"
   ]
  },
  {
   "cell_type": "code",
   "execution_count": 15,
   "metadata": {},
   "outputs": [],
   "source": [
    "stack = Stacker(transform_train, target)"
   ]
  },
  {
   "cell_type": "code",
   "execution_count": 16,
   "metadata": {},
   "outputs": [
    {
     "name": "stdout",
     "output_type": "stream",
     "text": [
      "Training order 1...\n",
      "One model trained...\n",
      "One model trained...\n"
     ]
    },
    {
     "name": "stderr",
     "output_type": "stream",
     "text": [
      "/opt/conda/lib/python3.6/site-packages/sklearn/linear_model/logistic.py:460: FutureWarning: Default multi_class will be changed to 'auto' in 0.22. Specify the multi_class option to silence this warning.\n",
      "  \"this warning.\", FutureWarning)\n"
     ]
    },
    {
     "name": "stdout",
     "output_type": "stream",
     "text": [
      "One model trained...\n",
      "All models trained.\n"
     ]
    }
   ],
   "source": [
    "stack_models = [first.trained_params ,second.trained_params, third.trained_params]\n",
    "\n",
    "\n",
    "stack.Order_1(stack_models)"
   ]
  },
  {
   "cell_type": "code",
   "execution_count": 17,
   "metadata": {},
   "outputs": [
    {
     "name": "stdout",
     "output_type": "stream",
     "text": [
      "Fitting 3 folds for each of 8 candidates, totalling 24 fits\n"
     ]
    },
    {
     "name": "stderr",
     "output_type": "stream",
     "text": [
      "[Parallel(n_jobs=3)]: Using backend LokyBackend with 3 concurrent workers.\n",
      "[Parallel(n_jobs=3)]: Done  24 out of  24 | elapsed:    8.9s finished\n"
     ]
    },
    {
     "name": "stdout",
     "output_type": "stream",
     "text": [
      "              precision    recall  f1-score   support\n",
      "\n",
      "           0       0.95      0.97      0.96      1238\n",
      "           1       0.94      0.97      0.96      1386\n",
      "           2       0.89      0.87      0.88      1223\n",
      "           3       0.87      0.88      0.87      1341\n",
      "           4       0.90      0.91      0.90      1208\n",
      "           5       0.85      0.80      0.83      1124\n",
      "           6       0.93      0.95      0.94      1246\n",
      "           7       0.93      0.93      0.93      1349\n",
      "           8       0.87      0.86      0.86      1190\n",
      "           9       0.88      0.86      0.87      1295\n",
      "\n",
      "   micro avg       0.90      0.90      0.90     12600\n",
      "   macro avg       0.90      0.90      0.90     12600\n",
      "weighted avg       0.90      0.90      0.90     12600\n",
      "\n"
     ]
    }
   ],
   "source": [
    "param_stack = {'n_estimators': [100],\n",
    "               'max_features': [None],\n",
    "               'max_depth': [5, 10, 15, None], \n",
    "               'min_samples_leaf':[5, 10],\n",
    "               'random_state': [0]}\n",
    "\n",
    "stack.Stack_pred(model = RandomForestClassifier(), params = param_stack)"
   ]
  }
 ],
 "metadata": {
  "kernelspec": {
   "display_name": "Python 3",
   "language": "python",
   "name": "python3"
  },
  "language_info": {
   "codemirror_mode": {
    "name": "ipython",
    "version": 3
   },
   "file_extension": ".py",
   "mimetype": "text/x-python",
   "name": "python",
   "nbconvert_exporter": "python",
   "pygments_lexer": "ipython3",
   "version": "3.6.4"
  }
 },
 "nbformat": 4,
 "nbformat_minor": 4
}
